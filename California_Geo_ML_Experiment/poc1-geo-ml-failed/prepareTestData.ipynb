{
 "cells": [
  {
   "cell_type": "code",
   "execution_count": 2,
   "metadata": {},
   "outputs": [
    {
     "name": "stdout",
     "output_type": "stream",
     "text": [
      "convert city...will take some time\n",
      "convert state...will take some time\n",
      "convert address...will take some time\n",
      "Test data is ready\n"
     ]
    }
   ],
   "source": [
    "import pandas as pd\n",
    "data = pd.read_csv(\"reference.csv\")\n",
    "input = pd.read_csv(\"input.csv\")\n",
    "\n",
    "#prepare keys\n",
    "data.columns = map(lambda x:x.lower(),data.columns)\n",
    "print \"convert city...will take some time\"\n",
    "data.city = data.city.str.upper()\n",
    "print \"convert state...will take some time\"\n",
    "data.state = data.state.str.upper()\n",
    "print \"convert address...will take some time\"\n",
    "data.address = data.address.str.upper()\n",
    "\n",
    "# merge input and reference\n",
    "datamerge = pd.merge(data, input, on=['state', 'city',\"zip\",\"address\"])\n",
    "\n",
    "print \"Test data is ready\""
   ]
  },
  {
   "cell_type": "code",
   "execution_count": null,
   "metadata": {},
   "outputs": [],
   "source": []
  }
 ],
 "metadata": {
  "kernelspec": {
   "display_name": "Python 2",
   "language": "python",
   "name": "python2"
  },
  "language_info": {
   "codemirror_mode": {
    "name": "ipython",
    "version": 2
   },
   "file_extension": ".py",
   "mimetype": "text/x-python",
   "name": "python",
   "nbconvert_exporter": "python",
   "pygments_lexer": "ipython2",
   "version": "2.7.14"
  }
 },
 "nbformat": 4,
 "nbformat_minor": 2
}
