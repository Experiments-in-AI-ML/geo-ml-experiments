{
 "cells": [
  {
   "cell_type": "markdown",
   "metadata": {},
   "source": [
    "# Add libs\n"
   ]
  },
  {
   "cell_type": "code",
   "execution_count": 1,
   "metadata": {},
   "outputs": [
    {
     "name": "stderr",
     "output_type": "stream",
     "text": [
      "/usr/local/lib/python2.7/dist-packages/h5py/__init__.py:36: FutureWarning: Conversion of the second argument of issubdtype from `float` to `np.floating` is deprecated. In future, it will be treated as `np.float64 == np.dtype(float).type`.\n",
      "  from ._conv import register_converters as _register_converters\n"
     ]
    }
   ],
   "source": [
    "import random\n",
    "import string\n",
    "import numpy as np\n",
    "import tensorflow as tf\n",
    "import pandas as pd\n",
    "import string "
   ]
  },
  {
   "cell_type": "markdown",
   "metadata": {},
   "source": [
    "# Prepare data"
   ]
  },
  {
   "cell_type": "code",
   "execution_count": 146,
   "metadata": {},
   "outputs": [],
   "source": [
    "mergeddata = pd.read_csv(\"datamerge.csv\")\n",
    "mergeddata = mergeddata[[\"latitude\",\"longitude\",\"address\",\"zip\",\"city\",\"mappage\",\"maprow\",\"mapcol\"]]\n",
    "mergeddata = mergeddata.drop_duplicates().fillna(0).reset_index(drop=\"True\")\n",
    "n = mergeddata.shape[0]-1\n",
    "\n",
    "\n",
    "mergeddata.mapcol = mergeddata.mapcol.str.lower().map({string.ascii_lowercase[i]:i for i in range(10)}).fillna(0)\n",
    "mergeddata.maprow = pd.to_numeric(mergeddata.maprow, errors='coerce').fillna(0)\n",
    "mergeddata.mappage = pd.to_numeric(mergeddata.mappage, errors='coerce').fillna(-100)\n",
    "mergeddata.mappage = mergeddata.mappage + (mergeddata.maprow*10 + mergeddata.mapcol) /100\n",
    "\n",
    "\n",
    "\n"
   ]
  },
  {
   "cell_type": "markdown",
   "metadata": {},
   "source": [
    "# Set up Tensorflow\n"
   ]
  },
  {
   "cell_type": "code",
   "execution_count": 147,
   "metadata": {},
   "outputs": [],
   "source": [
    "sess = tf.Session()\n",
    "test_address = tf.sparse_placeholder( dtype=tf.string)\n",
    "test_city = tf.sparse_placeholder( dtype=tf.string)\n",
    "test_zip = tf.placeholder(shape=[None, 1], dtype=tf.float32)\n",
    "test_mappage = tf.placeholder(shape=[None, 1], dtype=tf.float32)\n",
    "ref_address = tf.sparse_placeholder(dtype=tf.string)\n",
    "ref_city = tf.sparse_placeholder(dtype=tf.string)\n",
    "ref_zip = tf.placeholder(shape=[None, n], dtype=tf.float32)\n",
    "ref_mappage = tf.placeholder(shape=[None, n], dtype=tf.float32)                          "
   ]
  },
  {
   "cell_type": "markdown",
   "metadata": {},
   "source": [
    "# Distances\n"
   ]
  },
  {
   "cell_type": "code",
   "execution_count": 148,
   "metadata": {},
   "outputs": [],
   "source": [
    "zip_dist = tf.square(tf.subtract(ref_zip, test_zip))\n",
    "mappage_dist = tf.square(tf.subtract(ref_mappage, test_mappage))\n",
    "address_dist = tf.edit_distance(test_address, ref_address, normalize=True)\n",
    "city_dist = tf.edit_distance(test_city, ref_city, normalize=True)"
   ]
  },
  {
   "cell_type": "markdown",
   "metadata": {},
   "source": [
    "# Similarities"
   ]
  },
  {
   "cell_type": "code",
   "execution_count": 149,
   "metadata": {},
   "outputs": [],
   "source": [
    "zip_max = tf.gather(tf.squeeze(zip_dist), tf.argmax(zip_dist, 1))\n",
    "zip_min = tf.gather(tf.squeeze(zip_dist), tf.argmin(zip_dist, 1))\n",
    "zip_sim = tf.div(tf.subtract(zip_max, zip_dist), tf.subtract(zip_max, zip_min))\n",
    "\n",
    "mappage_max = tf.gather(tf.squeeze(mappage_dist), tf.argmax(mappage_dist, 1))\n",
    "mappage_min = tf.gather(tf.squeeze(mappage_dist), tf.argmin(mappage_dist, 1))\n",
    "mappage_sim = tf.div(tf.subtract(mappage_max, mappage_dist), tf.subtract(mappage_max, mappage_min))\n",
    "\n",
    "\n",
    "address_sim = tf.subtract(1., address_dist)\n",
    "city_sim = tf.subtract(1., city_dist)"
   ]
  },
  {
   "cell_type": "markdown",
   "metadata": {},
   "source": [
    "# Weights"
   ]
  },
  {
   "cell_type": "code",
   "execution_count": 150,
   "metadata": {},
   "outputs": [],
   "source": [
    "address_weight = 0.2\n",
    "city_weight = 0.3\n",
    "mappage_weight = 0.2\n",
    "zip_weight = 1. - (address_weight + city_weight + mappage_weight)\n",
    "\n",
    "weighted_sim1 = tf.add(tf.transpose(tf.multiply(address_weight, address_sim)),\n",
    "                      tf.multiply(zip_weight, zip_sim))\n",
    "                      \n",
    "weighted_sim2 = tf.add(tf.transpose(tf.multiply(city_weight, city_sim)),\n",
    "                      weighted_sim1)\n",
    "\n",
    "weighted_sim = tf.add(tf.multiply(zip_weight, zip_sim),\n",
    "                      weighted_sim2)\n",
    "\n",
    "\n",
    "\n",
    "top_match_index = tf.argmax(weighted_sim2, 1)"
   ]
  },
  {
   "cell_type": "markdown",
   "metadata": {},
   "source": [
    "# MISC"
   ]
  },
  {
   "cell_type": "code",
   "execution_count": 151,
   "metadata": {},
   "outputs": [],
   "source": [
    "def sparse_from_word_vec(word_vec):\n",
    "    num_words = len(word_vec)\n",
    "    indices = [[xi, 0, yi] for xi,x in enumerate(word_vec) for yi,y in enumerate(x)]\n",
    "    chars = list(''.join(word_vec))\n",
    "    # Now we return our sparse vector\n",
    "    return(tf.SparseTensorValue(indices, chars, [num_words,1,1]))\n",
    "\n",
    "def getTestSet(testNumber, maxN):\n",
    "    # test \n",
    "    test = {}\n",
    "    test[\"address\"] = mergeddata.address[testNumber] \n",
    "    test[\"zip\"] = mergeddata.zip[testNumber]\n",
    "    test[\"city\"] = mergeddata.city[testNumber]\n",
    "    test[\"latitude\"] = mergeddata.latitude[testNumber] \n",
    "    test[\"longitude\"] = mergeddata.longitude[testNumber]\n",
    "    test[\"mappage\"] = mergeddata.mappage[testNumber]\n",
    "\n",
    "    # ref\n",
    "    ref = {}\n",
    "    ref[\"address\"] = list(mergeddata.address[:testNumber]) + list((mergeddata.address[(testNumber+1):maxN])) \n",
    "    ref[\"zip\"] = list(mergeddata.zip[:testNumber]) + list((mergeddata.zip[(testNumber+1):maxN]))\n",
    "    ref[\"city\"] = list(mergeddata.city[:testNumber]) + list((mergeddata.city[(testNumber+1):maxN]))\n",
    "    ref[\"latitude\"] = list(mergeddata.latitude[:testNumber]) + list((mergeddata.latitude[(testNumber+1):maxN]))\n",
    "    ref[\"longitude\"] = list(mergeddata.longitude[:testNumber]) + list((mergeddata.longitude[(testNumber+1):maxN]))   \n",
    "    ref[\"mappage\"] = list(mergeddata.mappage[:testNumber]) + list((mergeddata.mappage[(testNumber+1):maxN]))\n",
    "    \n",
    "    return (test, ref)\n",
    "\n",
    "def customDistance(test_lat, test_long, ref_lat, ref_long):\n",
    "    diff_lat = abs(float(test_lat) - float(ref_lat))\n",
    "    diff_long = abs(float(test_long) - float(ref_long))\n",
    "    return ( (diff_lat + diff_long)/2.0 )\n",
    "\n",
    "from math import radians, cos, sin, asin, sqrt\n",
    "\n",
    "def haversine(lon1, lat1, lon2, lat2):\n",
    "    \"\"\"\n",
    "    Calculate the great circle distance between two points \n",
    "    on the earth (specified in decimal degrees)\n",
    "    \"\"\"\n",
    "    # convert decimal degrees to radians \n",
    "    lon1, lat1, lon2, lat2 = map(radians, [lon1, lat1, lon2, lat2])\n",
    "\n",
    "    # haversine formula \n",
    "    dlon = lon2 - lon1 \n",
    "    dlat = lat2 - lat1 \n",
    "    a = sin(dlat/2)**2 + cos(lat1) * cos(lat2) * sin(dlon/2)**2\n",
    "    c = 2 * asin(sqrt(a)) \n",
    "    r = 6371 # Radius of earth in kilometers. Use 3956 for miles\n",
    "    return c * r\n"
   ]
  },
  {
   "cell_type": "markdown",
   "metadata": {},
   "source": [
    "# Run Tensorflow"
   ]
  },
  {
   "cell_type": "code",
   "execution_count": 153,
   "metadata": {},
   "outputs": [
    {
     "name": "stdout",
     "output_type": "stream",
     "text": [
      "4299\n",
      "Address: SAN DIEGO,17725 BELLECHASE CIR, 92128, 33.03666\n",
      "Match  : SAN DIEGO,17705 BELLECHASE CIRCLE,92128, 33.03666\n",
      "4299\n",
      "Address: ESCONDIDO,304 HIDDEN TRAILS RD, 92027, 33.14431\n",
      "Match  : ESCONDIDO,304 HIDDEN TRAILS RD,92027, 33.14431\n",
      "4299\n",
      "Address: ESCONDIDO,304 HIDDEN TRAILS RD, 92027, 33.14431\n",
      "Match  : ESCONDIDO,304 HIDDEN TRAILS RD,92027, 33.14431\n",
      "4299\n",
      "Address: SAN DIEGO,1876 ELM AVE., 92154, 32.58095\n",
      "Match  : SAN DIEGO,4066 PALM AVE,92154, 32.58401\n",
      "4299\n",
      "Address: SAN DIEGO,877 ISLAND AVE, 92101, 32.71008\n",
      "Match  : SAN DIEGO,877 ISLAND AVE,92101, 32.71011\n",
      "4299\n",
      "Address: SAN DIEGO,877 ISLAND AVE, 92101, 32.71011\n",
      "Match  : SAN DIEGO,877 ISLAND AVE,92101, 32.71008\n",
      "4299\n",
      "Address: LA MESA,5700 BALTIMORE, 91942, 32.78366\n",
      "Match  : LA MESA,5700 BALTIMORE,91942, 32.78451\n",
      "4299\n",
      "Address: LA MESA,5700 BALTIMORE, 91942, 32.78451\n",
      "Match  : LA MESA,5700 BALTIMORE,91942, 32.78366\n",
      "4299\n",
      "Address: LA MESA,5700 BALTIMORE, 91942, 32.784420000000004\n",
      "Match  : LA MESA,5700 BALTIMORE,91942, 32.78366\n",
      "4299\n",
      "Address: PINE VALLEY,28974 CEDAR LANE, 91962, 32.82307\n",
      "Match  : PINE VALLEY,28942 CEDAR LANE,91962, 32.82333\n",
      "4299\n",
      "Address: SAN MARCOS,1930 W SAN MARCOS BLVD., 92078, 33.13589\n",
      "Match  : SAN MARCOS,1930 W SAN MARCOS BLVD,92078, 33.13589\n",
      "4299\n",
      "Address: SAN DIEGO,13428 TURLOCK COURT, 92129, 32.96376\n",
      "Match  : SAN DIEGO,4281 KERWOOD COURT,92130, 32.95287\n",
      "4299\n",
      "Address: SOLANA BEACH,524 VIA DE LA VALLE, 92075, 32.981840000000005\n",
      "Match  : SOLANA BEACH,536 VIA DE LA VALLE,92075, 32.98153\n",
      "4299\n",
      "Address: SAN MARCOS,720 COSTA DEL SUR, 92078, 33.10917\n",
      "Match  : SAN MARCOS,739 COSTA DEL SUR,92078, 33.10893\n",
      "4299\n",
      "Address: CHULA VISTA,1593 CORTE SEVILLE, 91913, 32.62076\n",
      "Match  : CHULA VISTA,1580 CORTE SEVILLE,91913, 32.62076\n",
      "4299\n",
      "Address: WARNER SPRINGS,35109 HIGHWAY 79, 92086, 33.34944\n",
      "Match  : WARNER SPRINGS,29872 CHIHUAHUA VALLEY RD.,92086, 33.38534\n",
      "4299\n",
      "Address: RAMONA,1316 KEYES ROAD, 92065, 33.0352\n",
      "Match  : RAMONA,1656 KEYES RD,92065, 33.02714\n",
      "4299\n",
      "Address: SAN MARCOS,1930 W SAN MARCOS BLVD, 92078, 33.13589\n",
      "Match  : SAN MARCOS,1930 W SAN MARCOS BLVD,92078, 33.13589\n",
      "4299\n",
      "Address: SAN MARCOS,1930 W SAN MARCOS BLVD, 92078, 33.13589\n",
      "Match  : SAN MARCOS,1930 W SAN MARCOS BLVD,92078, 33.13589\n",
      "4299\n",
      "Address: DEL MAR,13754 MANGO DR, 92014, 32.94787\n",
      "Match  : DEL MAR,13754 MANGO DRIVE,92014, 32.94787\n",
      "4299\n",
      "Address: SAN DIEGO,7614 PALMILLA DRIVE, 92122, 32.8626\n",
      "Match  : SAN DIEGO,7919 HEMPHILL DRIVE,92126, 32.90576\n",
      "4299\n",
      "Address: SAN MARCOS,500 RANCHEROS DRIVE, 92069, 33.14125\n",
      "Match  : SAN MARCOS,500 RANCHEROS,92069, 33.14125\n",
      "4299\n",
      "Address: CARLSBAD,3204 CORTE TAMARINDO, 92009, 33.10788\n",
      "Match  : CARLSBAD,3425 CORTE BREZO,92009, 33.08487\n",
      "4299\n",
      "Address: SAN DIEGO,8034 LINDA VISTA RD, 92111, 32.80709\n",
      "Match  : SAN DIEGO,8034 LINDA VISTA ROAD,92111, 32.80709\n",
      "4299\n",
      "Address: OCEANSIDE,,3925 SHENANDOAH DRIVE, 92056, 33.19862\n",
      "Match  : OCEANSIDE,825 SUNNINGDALE DRIVE,92057, 33.25161\n",
      "4299\n",
      "Address: VALLEY CENTER,18218 PARADISE MOUNTAIN RD, 92082, 33.20749\n",
      "Match  : VALLEY CENTER,15008 SADDLE CREEK DRIVE,92082, 33.27799\n",
      "4299\n",
      "Address: ALPINE,2932 KLUCEWICH RD, 91901, 32.8526\n",
      "Match  : ALPINE,2230 ALPINE HEIGHTS WAY,91901, 32.81803\n",
      "4299\n",
      "Address: SAN DIEGO,5686 DOROTHY WAY, 92115, 32.76879\n",
      "Match  : SAN DIEGO,4652 COCONINO WAY,92117, 32.82999\n",
      "4299\n",
      "Address: ESCONDIDO,2250 N BROADWAY, 92026, 33.15991\n",
      "Match  : ESCONDIDO,1459 N BROADWAY,92026, 33.14224\n",
      "4299\n",
      "Address: SAN DIEGO,6204 CAMINITO CARRENA, 92122, 32.85129000000001\n",
      "Match  : SAN DIEGO,12055 CAMINITO CADENA,92128, 33.02604\n",
      "4299\n",
      "Address: OCEANSIDE,4341 VIA TERCERO, 92056, 33.21223\n",
      "Match  : OCEANSIDE,4034 VIA DE LA PAZ,92057, 33.22057\n",
      "4299\n",
      "Address: CHULA VISTA,701 EASTSHORE TERRACE, 91913, 32.65518\n",
      "Match  : CHULA VISTA,701 EASTSHORE TERRACE,91913, 32.65528\n",
      "4299\n",
      "Address: CHULA VISTA,701 EASTSHORE TERRACE, 91913, 32.65528\n",
      "Match  : CHULA VISTA,701 EASTSHORE TERRACE,91913, 32.65518\n",
      "4299\n",
      "Address: SAN DIEGO,1950 CAMINO DE LA REINA, 92108, 32.77193\n",
      "Match  : SAN DIEGO,2020 CAMINO DE LA REINA,92108, 32.77193\n",
      "4299\n",
      "Address: EL CAJON,1052 CAJON GREENS DR., 92021, 32.81674\n",
      "Match  : EL CAJON,10923 HORIZON HILLS DR.,92020, 32.76989\n",
      "4299\n",
      "Address: SAN DIEGO,1501 FRONT ST., 92101, 32.72143\n",
      "Match  : SAN DIEGO,1501 FRONT ST,92101, 32.72143\n",
      "4299\n",
      "Address: BONITA,5771 CASA GRANDE WAY, 91902, 32.68712\n",
      "Match  : BONITA,3721 BELLE BONNIE BRAE,91902, 32.66873\n",
      "4299\n",
      "Address: SAN DIEGO,2445 BRANT STREET, 92101, 32.730979999999995\n",
      "Match  : SAN DIEGO,2445 BRANT STREET,92101, 32.73107\n",
      "4299\n",
      "Address: SAN DIEGO,2445 BRANT STREET, 92101, 32.73107\n",
      "Match  : SAN DIEGO,2445 BRANT STREET,92101, 32.73098\n",
      "4299\n",
      "Address: SAN DIEGO,2445 BRANT STREET, 92101, 32.73118\n",
      "Match  : SAN DIEGO,2445 BRANT STREET,92101, 32.73098\n",
      "4299\n",
      "Address: SAN DIEGO,2445 BRANT STREET, 92101, 32.73106\n",
      "Match  : SAN DIEGO,2445 BRANT STREET,92101, 32.73098\n",
      "4299\n",
      "Address: SOLANA BEACH,325 S SIERRA, 92075, 32.98775\n",
      "Match  : SOLANA BEACH,441 S SIERRA,92075, 32.98621\n",
      "4299\n",
      "Address: SAN DIEGO,550 FRONT ST, 92101, 32.711079999999995\n",
      "Match  : SAN DIEGO,550 FRONT ST.,92101, 32.71108\n",
      "4299\n",
      "Address: OCEANSIDE,26 BAHIA, 92058, 33.2279903\n",
      "Match  : OCEANSIDE,299 FESTIVAL,92057, 33.25104\n",
      "4299\n",
      "Address: ENCINITAS,1010 ALEXANDRA LN, 92024, 33.0633\n",
      "Match  : ENCINITAS,1090 ALEXANDRA LANE,92024, 33.06497\n",
      "4299\n",
      "Address: CAMPO,2408 LUPINE DR, 91906, 32.67869\n",
      "Match  : CAMPO,29578 PRIMROSE DR,91906, 32.68103\n",
      "4299\n",
      "Address: LA JOLLA,939 COAST BLVD, 92037, 32.84794\n",
      "Match  : LA JOLLA,939 COAST BLVD,92037, 32.84824\n",
      "4299\n",
      "Address: LA JOLLA,939 COAST BLVD, 92037, 32.848240000000004\n",
      "Match  : LA JOLLA,939 COAST BLVD,92037, 32.84794\n",
      "4299\n",
      "Address: ALPINE,2400 ALPINE BLVD, 91901, 32.8368\n",
      "Match  : ALPINE,2400 ALPINE BLVD,91901, 32.83811\n",
      "4299\n",
      "Address: ALPINE,2400 ALPINE BLVD, 91901, 32.83811\n",
      "Match  : ALPINE,2400 ALPINE BLVD,91901, 32.8368\n",
      "neg_mean_absolute_error (km): 2.1221 ± 4.2799\n"
     ]
    }
   ],
   "source": [
    "\n",
    "scores = []\n",
    "\n",
    "for i in range(50):\n",
    "    test, ref = getTestSet(i, n+1)\n",
    "\n",
    "    reference_addresses = ref[\"address\"]\n",
    "    reference_zips = np.array([ref[\"zip\"]])\n",
    "    reference_mappages = np.array([ref[\"mappage\"]])\n",
    "    reference_cities = ref[\"city\"]\n",
    "    \n",
    "    print len(ref[\"zip\"])\n",
    "    sparse_ref_set = sparse_from_word_vec(reference_addresses)\n",
    "    sparse_ref_cities = sparse_from_word_vec(reference_cities)\n",
    "    test_address_entry = test[\"address\"]\n",
    "    test_zip_entry = [[test[\"zip\"]]]\n",
    "    test_mappage_entry = [[test[\"mappage\"]]]\n",
    "    test_city_entry = test[\"city\"]\n",
    "\n",
    "    # Create sparse address vectors\n",
    "    test_address_repeated = [test_address_entry] * n\n",
    "    sparse_test_set = sparse_from_word_vec(test_address_repeated)\n",
    "    test_city_repeated = [test_city_entry] * n\n",
    "    sparse_test_city = sparse_from_word_vec(test_city_repeated)\n",
    "\n",
    "    feeddict={test_address: sparse_test_set,\n",
    "               test_zip: test_zip_entry,\n",
    "               test_mappage: test_mappage_entry,\n",
    "               test_city: sparse_test_city,\n",
    "               ref_address: sparse_ref_set,\n",
    "               ref_zip: reference_zips,\n",
    "               ref_mappage: reference_mappages,\n",
    "               ref_city: sparse_ref_cities}\n",
    "    best_match = sess.run(top_match_index, feed_dict=feeddict)\n",
    "    best_street = reference_addresses[int(best_match)]\n",
    "    best_city = reference_cities[int(best_match)]\n",
    "    [best_zip] = reference_zips[0][best_match]\n",
    "    [[test_zip_]] = test_zip_entry\n",
    "    print('Address: ' + str(test_city_entry) + \",\" + str(test_address_entry) + ', ' + str(test_zip_)) + ', ' + str(test[\"latitude\"])\n",
    "    print('Match  : ' + str(best_city) + ','+ str(best_street) + ','  + str(best_zip))+ ', ' + str(ref[\"latitude\"][int(best_match)])\n",
    "    scores.append( haversine(test[\"longitude\"],\n",
    "                         test[\"latitude\"],\n",
    "                         ref[\"longitude\"][int(best_match)],\n",
    "                         ref[\"latitude\"][int(best_match)]))\n",
    "                     \n",
    "print \"%s: %s ± %s\"%(\"neg_mean_absolute_error (km)\", round(np.mean(scores),4), round(np.std(scores),4))\n",
    "\n",
    "                     "
   ]
  },
  {
   "cell_type": "code",
   "execution_count": 127,
   "metadata": {},
   "outputs": [],
   "source": [
    "%matplotlib inline\n",
    "\n",
    "import matplotlib\n",
    "import numpy as np\n",
    "import matplotlib.pyplot as plt"
   ]
  },
  {
   "cell_type": "code",
   "execution_count": 136,
   "metadata": {},
   "outputs": [
    {
     "data": {
      "text/plain": [
       "Text(0.5,1,'Error distribution')"
      ]
     },
     "execution_count": 136,
     "metadata": {},
     "output_type": "execute_result"
    },
    {
     "data": {
      "image/png": "[encoded data removed]",
      "text/plain": [
       "<Figure size 432x288 with 1 Axes>"
      ]
     },
     "metadata": {},
     "output_type": "display_data"
    }
   ],
   "source": [
    "plt.hist(scores,50)\n",
    "plt.xlabel('error (km)')\n",
    "plt.ylabel('n')\n",
    "plt.title('Error distribution')"
   ]
  },
  {
   "cell_type": "markdown",
   "metadata": {},
   "source": [
    "# Batch mode\n"
   ]
  },
  {
   "cell_type": "code",
   "execution_count": 144,
   "metadata": {},
   "outputs": [
    {
     "name": "stdout",
     "output_type": "stream",
     "text": [
      "----\n",
      "Address: SAN DIEGO,17725 BELLECHASE CIR, 92128, 33.03666\n",
      "Match  : SAN DIEGO,17705 BELLECHASE CIRCLE,92128, 33.03666\n",
      "long/lat = -117.07308, 33.03666\n",
      "----\n",
      "Address: ESCONDIDO,304 HIDDEN TRAILS RD, 92027, 33.14431\n",
      "Match  : ESCONDIDO,304 HIDDEN TRAILS RD,92027, 33.14431\n",
      "long/lat = -117.0236, 33.14431\n",
      "----\n",
      "Address: ESCONDIDO,304 HIDDEN TRAILS RD, 92027, 33.14431\n",
      "Match  : ESCONDIDO,304 HIDDEN TRAILS RD,92027, 33.14431\n",
      "long/lat = -117.0236, 33.14431\n",
      "----\n",
      "Address: SAN DIEGO,1876 ELM AVE., 92154, 32.58095\n",
      "Match  : SAN DIEGO,4066 PALM AVE,92154, 32.58401\n",
      "long/lat = -117.04617, 32.58401\n",
      "----\n",
      "Address: SAN DIEGO,877 ISLAND AVE, 92101, 32.71008\n",
      "Match  : SAN DIEGO,877 ISLAND AVE,92101, 32.71011\n",
      "long/lat = -117.15687, 32.71011\n",
      "----\n",
      "Address: SAN DIEGO,877 ISLAND AVE, 92101, 32.71011\n",
      "Match  : SAN DIEGO,877 ISLAND AVE,92101, 32.71008\n",
      "long/lat = -117.15692, 32.71008\n",
      "----\n",
      "Address: LA MESA,5700 BALTIMORE, 91942, 32.78366\n",
      "Match  : LA MESA,5700 BALTIMORE,91942, 32.78451\n",
      "long/lat = -117.03453, 32.78451\n",
      "----\n",
      "Address: LA MESA,5700 BALTIMORE, 91942, 32.78451\n",
      "Match  : LA MESA,5700 BALTIMORE,91942, 32.78366\n",
      "long/lat = -117.03526, 32.78366\n",
      "----\n",
      "Address: LA MESA,5700 BALTIMORE, 91942, 32.784420000000004\n",
      "Match  : LA MESA,5700 BALTIMORE,91942, 32.78366\n",
      "long/lat = -117.03526, 32.78366\n",
      "----\n",
      "Address: PINE VALLEY,28974 CEDAR LANE, 91962, 32.82307\n",
      "Match  : PINE VALLEY,28942 CEDAR LANE,91962, 32.82333\n",
      "long/lat = -116.52363, 32.82333\n"
     ]
    }
   ],
   "source": [
    "scores = []\n",
    "\n",
    "# change datamerge.csv to your input file\n",
    "batchinput = pd.read_csv(\"datamerge.csv\")\n",
    "batchinput = batchinput[[\"latitude\",\"longitude\",\"address\",\"zip\",\"city\",\"mappage\"]]\n",
    "batchinput = batchinput.drop_duplicates().fillna(0).reset_index(drop=\"True\")\n",
    "batchinput.mappage = pd.to_numeric(batchinput.mappage, errors='coerce').fillna(-100)\n",
    "\n",
    "# comment if test has been working\n",
    "for i in range(10):\n",
    "# uncomment for full run - may take some time    \n",
    "#for i in range(batchinput.shape[0]):    \n",
    "    test, ref = getTestSet(i, n+1)\n",
    "\n",
    "    reference_addresses = ref[\"address\"]\n",
    "    reference_zips = np.array([ref[\"zip\"]])\n",
    "    reference_mappages = np.array([ref[\"mappage\"]])\n",
    "    reference_cities = ref[\"city\"]\n",
    "    \n",
    "    print (\"----\")\n",
    "    sparse_ref_set = sparse_from_word_vec(reference_addresses)\n",
    "    sparse_ref_cities = sparse_from_word_vec(reference_cities)\n",
    "    test_address_entry = batchinput.address[i]\n",
    "    test_zip_entry = [[batchinput.zip[i]]]\n",
    "    test_mappage_entry = [[batchinput.mappage[i]]]\n",
    "    test_city_entry = batchinput.city[i]\n",
    "\n",
    "    # Create sparse address vectors\n",
    "    test_address_repeated = [test_address_entry] * n\n",
    "    sparse_test_set = sparse_from_word_vec(test_address_repeated)\n",
    "    test_city_repeated = [test_city_entry] * n\n",
    "    sparse_test_city = sparse_from_word_vec(test_city_repeated)\n",
    "\n",
    "    feeddict={test_address: sparse_test_set,\n",
    "               test_zip: test_zip_entry,\n",
    "               test_mappage: test_mappage_entry,\n",
    "               test_city: sparse_test_city,\n",
    "               ref_address: sparse_ref_set,\n",
    "               ref_zip: reference_zips,\n",
    "               ref_mappage: reference_mappages,\n",
    "               ref_city: sparse_ref_cities}\n",
    "    best_match = sess.run(top_match_index, feed_dict=feeddict)\n",
    "    best_street = reference_addresses[int(best_match)]\n",
    "    best_city = reference_cities[int(best_match)]\n",
    "    [best_zip] = reference_zips[0][best_match]\n",
    "    [[test_zip_]] = test_zip_entry\n",
    "    print('Address: ' + str(test_city_entry) + \",\" + str(test_address_entry) + ', ' + str(test_zip_)) + ', ' + str(test[\"latitude\"])\n",
    "    print('Match  : ' + str(best_city) + ','+ str(best_street) + ','  + str(best_zip))+ ', ' + str(ref[\"latitude\"][int(best_match)])\n",
    "    print (\"long/lat = %s, %s\"%(ref[\"longitude\"][int(best_match)], ref[\"latitude\"][int(best_match)])\n",
    "                         \n",
    ")\n",
    "                     \n"
   ]
  },
  {
   "cell_type": "code",
   "execution_count": null,
   "metadata": {},
   "outputs": [],
   "source": []
  },
  {
   "cell_type": "code",
   "execution_count": null,
   "metadata": {},
   "outputs": [],
   "source": []
  }
 ],
 "metadata": {
  "kernelspec": {
   "display_name": "Python 2",
   "language": "python",
   "name": "python2"
  },
  "language_info": {
   "codemirror_mode": {
    "name": "ipython",
    "version": 2
   },
   "file_extension": ".py",
   "mimetype": "text/x-python",
   "name": "python",
   "nbconvert_exporter": "python",
   "pygments_lexer": "ipython2",
   "version": "2.7.12"
  }
 },
 "nbformat": 4,
 "nbformat_minor": 2
}
