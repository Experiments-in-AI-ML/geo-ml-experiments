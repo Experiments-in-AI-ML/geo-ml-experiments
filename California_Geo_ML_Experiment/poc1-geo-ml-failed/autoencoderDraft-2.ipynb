{
 "cells": [
  {
   "cell_type": "code",
   "execution_count": 1,
   "metadata": {},
   "outputs": [
    {
     "name": "stderr",
     "output_type": "stream",
     "text": [
      "/usr/local/lib/python2.7/dist-packages/h5py/__init__.py:36: FutureWarning: Conversion of the second argument of issubdtype from `float` to `np.floating` is deprecated. In future, it will be treated as `np.float64 == np.dtype(float).type`.\n",
      "  from ._conv import register_converters as _register_converters\n"
     ]
    }
   ],
   "source": [
    "import matplotlib.pyplot as plt\n",
    "import numpy as np\n",
    "import tensorflow as tf\n",
    "\n",
    "import pandas as pd\n",
    "data = pd.read_csv(\"datamerge.csv\")\n",
    "\n",
    "def pandasStringSeriesToNumpy(col, size):\n",
    "    addressData = np.zeros((col.shape[0], size))\n",
    "    for i, row in data.iterrows():\n",
    "       word =  row['addr_street']\n",
    "       padSize = size - len(word)\n",
    "       wordVec =  list(map(lambda x: ord(x), word)) + [32] * padSize\n",
    "       addressData[i,:] = wordVec \n",
    "    return addressData\n",
    "\n",
    "addressData = pandasStringSeriesToNumpy(data.addr_street, 31)\n",
    "\n",
    "\n",
    "x_vals = addressData[:,0:31]\n",
    "y_vals = addressData[:,0:31]\n",
    "sess = tf.Session()\n",
    "\n"
   ]
  },
  {
   "cell_type": "code",
   "execution_count": 2,
   "metadata": {},
   "outputs": [
    {
     "name": "stderr",
     "output_type": "stream",
     "text": [
      "/usr/local/lib/python2.7/dist-packages/ipykernel_launcher.py:14: RuntimeWarning: invalid value encountered in divide\n",
      "  \n"
     ]
    }
   ],
   "source": [
    "seed = 2\n",
    "tf.set_random_seed(seed)\n",
    "np.random.seed(seed)\n",
    "\n",
    "train_indices = np.random.choice(len(x_vals),int( round(len(x_vals)*0.8)), replace=False)\n",
    "test_indices = np.array(list(set(range(len(x_vals))) - set(train_indices)))\n",
    "x_vals_train = x_vals[train_indices]\n",
    "x_vals_test = x_vals[test_indices]\n",
    "y_vals_train = y_vals[train_indices]\n",
    "y_vals_test = y_vals[test_indices]\n",
    "def normalize_cols(m):\n",
    "    col_max = m.max(axis=0)\n",
    "    col_min = m.min(axis=0)\n",
    "    return (m-col_min) / (col_max - col_min)\n",
    "\n",
    "x_vals_train = np.nan_to_num(normalize_cols(x_vals_train))\n",
    "x_vals_test = np.nan_to_num(normalize_cols(x_vals_test))\n",
    "\n",
    "# CONFIG NETWORK\n",
    "INPUT_SIZE = 31\n",
    "OUTPUT_SIZE = 31\n",
    "hidden_layer_nodes = 1\n",
    "\n"
   ]
  },
  {
   "cell_type": "code",
   "execution_count": 3,
   "metadata": {},
   "outputs": [
    {
     "name": "stdout",
     "output_type": "stream",
     "text": [
      "WARNING:tensorflow:From /usr/local/lib/python2.7/dist-packages/tensorflow/python/util/tf_should_use.py:118: initialize_all_variables (from tensorflow.python.ops.variables) is deprecated and will be removed after 2017-03-02.\n",
      "Instructions for updating:\n",
      "Use `tf.global_variables_initializer` instead.\n"
     ]
    }
   ],
   "source": [
    "batch_size = 200\n",
    "x_data = tf.placeholder(shape=[None, INPUT_SIZE], dtype=tf.float32)\n",
    "y_target = tf.placeholder(shape=[None, OUTPUT_SIZE], dtype=tf.float32)\n",
    "\n",
    "A1 = tf.Variable(tf.random_normal(shape=[INPUT_SIZE,hidden_layer_nodes]))\n",
    "b1 = tf.Variable(tf.random_normal(shape=[hidden_layer_nodes]))\n",
    "A2 = tf.Variable(tf.random_normal(shape=[hidden_layer_nodes, OUTPUT_SIZE]))\n",
    "b2 = tf.Variable(tf.random_normal(shape=[OUTPUT_SIZE]))\n",
    "\n",
    "hidden_output = tf.nn.relu(tf.add(tf.matmul(x_data, A1), b1))\n",
    "final_output = tf.nn.relu(tf.add(tf.matmul(hidden_output, A2),b2))\n",
    "\n",
    "loss = tf.reduce_mean(tf.square(y_target - final_output))\n",
    "\n",
    "my_opt = tf.train.GradientDescentOptimizer(0.005)\n",
    "train_step = my_opt.minimize(loss)\n",
    "init = tf.initialize_all_variables()\n"
   ]
  },
  {
   "cell_type": "code",
   "execution_count": 4,
   "metadata": {},
   "outputs": [
    {
     "name": "stdout",
     "output_type": "stream",
     "text": [
      "Generation: 10. Loss = 38.32069\n",
      "Generation: 20. Loss = 30.090939\n",
      "Generation: 30. Loss = 29.936558\n",
      "Generation: 40. Loss = 30.013521\n",
      "Generation: 50. Loss = 29.85814\n"
     ]
    },
    {
     "data": {
      "image/png": "[encoded data removed]",
      "text/plain": [
       "<Figure size 432x288 with 1 Axes>"
      ]
     },
     "metadata": {},
     "output_type": "display_data"
    }
   ],
   "source": [
    "sess.run(init)\n",
    "# First we initialize the loss vectors for storage.\n",
    "loss_vec = []\n",
    "test_loss = []\n",
    "for i in range(50):\n",
    "    # First we select a random set of indices for the batch.\n",
    "    rand_index = np.random.choice(len(x_vals_train), size=batch_size)\n",
    "    # We then select the training values\n",
    "    rand_x = x_vals_train[rand_index]\n",
    "    rand_y = y_vals_train[rand_index]\n",
    "    \n",
    "    # Now we run the training step\n",
    "    sess.run(train_step, feed_dict={x_data: rand_x, y_target: rand_y})\n",
    "    # We save the training loss\n",
    "    temp_loss = sess.run(loss, feed_dict={x_data: rand_x, y_target: rand_y})\n",
    "    loss_vec.append(np.sqrt(temp_loss))\n",
    "\n",
    "    # Finally, we run the test-set loss and save it.\n",
    "    test_temp_loss = sess.run(loss, feed_dict={x_data: x_vals_test, y_target: y_vals_test})\n",
    "    test_loss.append(np.sqrt(test_temp_loss))\n",
    "    if (i+1)%10==0:\n",
    "        print('Generation: ' + str(i+1) + '. Loss = ' + str(np.sqrt(temp_loss)))\n",
    "\n",
    "plt.plot(loss_vec, 'k-', label='Train Loss')\n",
    "plt.plot(test_loss, 'r--', label='Test Loss')\n",
    "plt.title('Loss (MSE) per Generation')\n",
    "plt.xlabel('Generation')\n",
    "plt.ylabel('Loss')\n",
    "plt.legend(loc='upper right')\n",
    "plt.show()        \n",
    "        \n",
    "sess.close()"
   ]
  },
  {
   "cell_type": "code",
   "execution_count": null,
   "metadata": {},
   "outputs": [],
   "source": []
  }
 ],
 "metadata": {
  "kernelspec": {
   "display_name": "Python 2",
   "language": "python",
   "name": "python2"
  },
  "language_info": {
   "codemirror_mode": {
    "name": "ipython",
    "version": 2
   },
   "file_extension": ".py",
   "mimetype": "text/x-python",
   "name": "python",
   "nbconvert_exporter": "python",
   "pygments_lexer": "ipython2",
   "version": "2.7.12"
  }
 },
 "nbformat": 4,
 "nbformat_minor": 2
}
