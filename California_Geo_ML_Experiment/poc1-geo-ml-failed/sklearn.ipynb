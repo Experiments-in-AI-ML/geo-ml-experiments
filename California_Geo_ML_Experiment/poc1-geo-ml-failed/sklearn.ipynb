{
 "cells": [
  {
   "cell_type": "code",
   "execution_count": 8,
   "metadata": {},
   "outputs": [
    {
     "name": "stdout",
     "output_type": "stream",
     "text": [
      "Data is ready\n"
     ]
    }
   ],
   "source": [
    "import pandas as pd\n",
    "import numpy as np\n",
    "from sklearn.ensemble import RandomForestRegressor\n",
    "from sklearn.datasets import make_regression\n",
    "from sklearn.model_selection import cross_val_score\n",
    "\n",
    "# get data\n",
    "data = pd.read_csv(\"datamerge.csv\")\n",
    "print \"Data is ready\"\n",
    "\n",
    "def customScore(features, targets, metric):\n",
    "    regr = RandomForestRegressor()\n",
    "    scores = cross_val_score(regr, features, targets, cv=10, scoring=metric)\n",
    "    return  \"%s: %s ± %s\"%(metric, round(np.mean(scores),4), round(np.std(scores),4))    "
   ]
  },
  {
   "cell_type": "code",
   "execution_count": 12,
   "metadata": {},
   "outputs": [
    {
     "name": "stdout",
     "output_type": "stream",
     "text": [
      "Benchmarking baseline(random features).... \n",
      "neg_mean_absolute_error: -0.3929 ± 0.1363\n"
     ]
    }
   ],
   "source": [
    "# Baseline - performance with random features\n",
    "subset = data[[\"latitude\",\"longitude\",\"city\",\"mappage\"]]\n",
    "cleansubset = subset.drop_duplicates().fillna(0)\n",
    "\n",
    "targets =  cleansubset.loc[:, ['latitude',\"longitude\"]].values\n",
    "features = np.random.rand(targets.shape[0], targets.shape[1])\n",
    "\n",
    "print \"Benchmarking baseline(random features).... \"\n",
    "print customScore(features, targets,\"neg_mean_absolute_error\")"
   ]
  },
  {
   "cell_type": "code",
   "execution_count": 14,
   "metadata": {},
   "outputs": [
    {
     "name": "stdout",
     "output_type": "stream",
     "text": [
      "Benchmarking features(city).... \n",
      "neg_mean_absolute_error: -0.2399 ± 0.1412\n"
     ]
    }
   ],
   "source": [
    "# City  feature \n",
    "subset = data[[\"latitude\",\"longitude\",\"city\"]]\n",
    "cleansubset = subset.drop_duplicates().fillna(0)\n",
    "\n",
    "features=pd.get_dummies(cleansubset.loc[:, ['city']]).values\n",
    "targets =  cleansubset.loc[:, ['latitude',\"longitude\"]].values\n",
    "\n",
    "print \"Benchmarking features(city).... \"\n",
    "print customScore(features, targets,\"neg_mean_absolute_error\")"
   ]
  },
  {
   "cell_type": "code",
   "execution_count": 18,
   "metadata": {},
   "outputs": [
    {
     "name": "stdout",
     "output_type": "stream",
     "text": [
      "Benchmarking features(city, mappage).... \n",
      "neg_mean_absolute_error: -0.2254 ± 0.1365\n"
     ]
    }
   ],
   "source": [
    "# City + mappage  feature \n",
    "subset = data[[\"latitude\",\"longitude\",\"city\",\"mappage\",\"maprow\"]]\n",
    "cleansubset = subset.drop_duplicates().fillna(0)\n",
    "\n",
    "features=pd.get_dummies(cleansubset.loc[:, ['city',\"mappage\",\"maprow\"]]).values\n",
    "targets =  cleansubset.loc[:, ['latitude',\"longitude\"]].values\n",
    "\n",
    "print \"Benchmarking features(city, mappage).... \"\n",
    "print customScore(features, targets,\"neg_mean_absolute_error\")"
   ]
  },
  {
   "cell_type": "code",
   "execution_count": 17,
   "metadata": {},
   "outputs": [
    {
     "name": "stdout",
     "output_type": "stream",
     "text": [
      "Benchmarking features(city, mappage).... \n",
      "neg_mean_absolute_error: -0.2081 ± 0.1239\n"
     ]
    }
   ],
   "source": [
    "# City + mappage  feature \n",
    "subset = data[[\"latitude\",\"longitude\",\"city\",\"mappage\",\"zip\"]]\n",
    "cleansubset = subset.drop_duplicates().fillna(0)\n",
    "\n",
    "features=pd.get_dummies(cleansubset.loc[:, ['city',\"mappage\",\"zip\"]]).values\n",
    "targets =  cleansubset.loc[:, ['latitude',\"longitude\"]].values\n",
    "\n",
    "print \"Benchmarking features(city, mappage).... \"\n",
    "print customScore(features, targets,\"neg_mean_absolute_error\")"
   ]
  },
  {
   "cell_type": "code",
   "execution_count": null,
   "metadata": {},
   "outputs": [],
   "source": []
  }
 ],
 "metadata": {
  "kernelspec": {
   "display_name": "Python 2",
   "language": "python",
   "name": "python2"
  },
  "language_info": {
   "codemirror_mode": {
    "name": "ipython",
    "version": 2
   },
   "file_extension": ".py",
   "mimetype": "text/x-python",
   "name": "python",
   "nbconvert_exporter": "python",
   "pygments_lexer": "ipython2",
   "version": "2.7.14"
  }
 },
 "nbformat": 4,
 "nbformat_minor": 2
}
